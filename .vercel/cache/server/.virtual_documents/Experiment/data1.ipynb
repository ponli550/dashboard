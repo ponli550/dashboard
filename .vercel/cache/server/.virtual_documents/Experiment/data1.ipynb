import pandas as pd

# Sample data (replace this with your actual data loading)
data =  '''[PASTE YOUR ENTIRE DATA HERE]'''
from io import StringIO
df = pd.read_csv(StringIO(data), sep='\t', header=None, 
                 names=['date', 'station_id', 'parameter', 'category', 'count', 'percentage'])

# 1. Convert date format to year
df['year'] = pd.to_datetime(df['date'], format='%d/%m/%y').dt.year

# 2. Create separate columns for ss categories
# First pivot the data
pivot_df = df.pivot_table(
    index=['year', 'station_id'],
    columns=['parameter', 'category'],
    values=['count', 'percentage'],
    aggfunc='first'
).reset_index()

# Flatten the multi-index columns
pivot_df.columns = ['_'.join(filter(None, col)).replace(' ', '_') for col in pivot_df.columns.values]

# 3. Rename columns to match requested format
column_mapping = {
    'year_': 'year',
    'station_id_': 'station_id',
    'percentage_ss_clean': 'ss(clean)',
    'percentage_ss_slightly__polluted': 'ss(slightly_polluted)',
    'percentage_ss_polluted': 'ss(polluted)'
}

# Select and rename relevant columns
final_df = pivot_df.rename(columns=column_mapping)[[
    'year', 'station_id',
    'ss(clean)', 'ss(slightly_polluted)', 'ss(polluted)'
]]

print(final_df.head())



