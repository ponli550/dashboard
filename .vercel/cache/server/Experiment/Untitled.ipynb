{
 "cells": [
  {
   "cell_type": "code",
   "execution_count": 2,
   "id": "be5d36d5-c8c9-4e9c-b53c-df69a9541465",
   "metadata": {},
   "outputs": [
    {
     "name": "stdout",
     "output_type": "stream",
     "text": [
      "\n",
      "========================================\n",
      "Water Pollution Dataset\n",
      "========================================\n",
      "No data available or API error\n",
      "\n",
      "========================================\n",
      "Mineral Extraction Dataset\n",
      "========================================\n",
      "No data available or API error\n",
      "\n",
      "========================================\n",
      "Timber Production Dataset\n",
      "========================================\n",
      "No data available or API error\n"
     ]
    }
   ],
   "source": [
    "import pandas as pd\n",
    "import requests\n",
    "import json\n",
    "\n",
    "# API endpoints\n",
    "apis = {\n",
    "    \"Water Pollution\": \"https://api.data.gov.my/data-catalogue?id=water_pollution_basin&limit=30\",\n",
    "    \"Mineral Extraction\": \"https://api.data.gov.my/data-catalogue?id=mineral_extraction&limit=30\",\n",
    "    \"Timber Production\": \"https://api.data.gov.my/data-catalogue?id=timber_production&limit=30\"\n",
    "}\n",
    "\n",
    "def get_api_data(url):\n",
    "    try:\n",
    "        response = requests.get(url)\n",
    "        response.raise_for_status()\n",
    "        return response.json()\n",
    "    except requests.exceptions.RequestException as e:\n",
    "        print(f\"Error fetching data: {e}\")\n",
    "        return None\n",
    "\n",
    "# Create DataFrames and display information\n",
    "for name, url in apis.items():\n",
    "    print(f\"\\n{'='*40}\\n{name} Dataset\\n{'='*40}\")\n",
    "    \n",
    "    data = get_api_data(url)\n",
    "    \n",
    "    if data and 'data' in data:\n",
    "        df = pd.DataFrame(data['data'])\n",
    "        \n",
    "        # Display basic info\n",
    "        print(f\"\\nFirst 3 rows:\")\n",
    "        print(df.head(3))\n",
    "        \n",
    "        print(f\"\\nData Types:\")\n",
    "        print(df.dtypes)\n",
    "        \n",
    "        print(f\"\\nShape: {df.shape}\")\n",
    "        \n",
    "    else:\n",
    "        print(\"No data available or API error\")"
   ]
  },
  {
   "cell_type": "code",
   "execution_count": null,
   "id": "bf213c28-a387-4eb0-9e94-b7cd56fe140f",
   "metadata": {},
   "outputs": [],
   "source": []
  }
 ],
 "metadata": {
  "kernelspec": {
   "display_name": "Python 3 (ipykernel)",
   "language": "python",
   "name": "python3"
  },
  "language_info": {
   "codemirror_mode": {
    "name": "ipython",
    "version": 3
   },
   "file_extension": ".py",
   "mimetype": "text/x-python",
   "name": "python",
   "nbconvert_exporter": "python",
   "pygments_lexer": "ipython3",
   "version": "3.12.7"
  }
 },
 "nbformat": 4,
 "nbformat_minor": 5
}
